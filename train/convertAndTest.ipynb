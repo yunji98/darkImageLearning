from PIL import Image
import os, glob, sys, numpy as np
from sklearn.model_selection import train_test_split
from keras.utils import np_utils
from keras.models import Sequential, load_model
from keras.layers import Conv2D, MaxPooling2D, Dense, Flatten, Dropout
from keras.callbacks import EarlyStopping, ModelCheckpoint
import matplotlib.pyplot as plt
import keras.backend.tensorflow_backend as K
import numpy
import pandas as pd
import tensorflow as tf

img_dir = './testTensorflow2/trainData'
categories = ['bright', 'dark']
np_classes = len(categories)

image_w = 64
image_h = 64

pixel = image_h * image_w * 3

X = []
y = []

for idx, dark in enumerate(categories):
    img_dir_detail = img_dir + "/" + dark
    files = glob.glob(img_dir_detail+"/*.*")


    for i, f in enumerate(files):
        try:
            img = Image.open(f)
            img = img.convert("RGB")
            img = img.resize((image_w, image_h))
            data = np.asarray(img)
            #Y는 0 아니면 1이니까 idx값으로 넣는다.
            X.append(data)
            y.append(idx)
            if i % 100 == 0:
                print(dark, " : ", f)
        except:
            print(dark, str(i)+" 번째에서 에러 ")
X = np.array(X)
Y = np.array(y)

X_train, X_test, Y_train, Y_test = train_test_split(X, Y, test_size=0.1)

xy = (X_train, X_test, Y_train, Y_test)
np.save("./npydata/binary_data.npy", xy)

# 데이터 열기 
X_train, X_test, y_train, y_test = np.load('./npydata/binary_data.npy')
print(X_train.shape)
print(X_train.shape[0])
print(np.bincount(y_train))
print(np.bincount(y_test))

image_w = 64
image_h = 64
# 데이터 정규화하기(0~1사이로)
X_train = X_train.astype('float32') / 255
X_test = X_test.astype('float32') / 255

model = tf.keras.models.Sequential([
    tf.keras.layers.Conv2D(32, (3,3), padding="same", input_shape=X_train.shape[1:], activation="relu"),
    tf.keras.layers.MaxPooling2D(pool_size=(2,2)),
    tf.keras.layers.Conv2D(32, (3,3), padding="same", activation="relu"),
    tf.keras.layers.MaxPooling2D(pool_size=(2,2)),

    tf.keras.layers.Conv2D(64, (3,3), padding="same", activation="relu"),
    tf.keras.layers.MaxPooling2D(pool_size=(2,2)),
    tf.keras.layers.Dropout(0.25),

    tf.keras.layers.Conv2D(64, (3,3), padding="same", activation="relu"),
    tf.keras.layers.MaxPooling2D(pool_size=(2,2)),
    tf.keras.layers.Dropout(0.25),

    tf.keras.layers.Flatten(),
    tf.keras.layers.Dense(256, activation="relu"),
    tf.keras.layers.Dropout(0.5),
    tf.keras.layers.Dense(1, activation="sigmoid")
    ])

 model.compile(optimizer='adam', loss='binary_crossentropy', metrics=['accuracy'])

model.summary()

history = model.fit(X_train, y_train, batch_size=64, epochs=50, validation_split=0.15)


model.save("./model/model.h5")
print("Saved model to disk")

print("정확도 : %.2f " %(model.evaluate(X_test, y_test)[1]))

plt.plot(history.history['loss'])
plt.plot(history.history['val_loss'])
plt.plot(history.history['accuracy'])
plt.plot(history.history['val_accuracy'])
plt.title('model loss')
plt.ylabel('loss')
plt.xlabel('epoch')
plt.legend(['loss', 'val_loss', 'acc', 'val_acc'], loc='upper left')
plt.show()

model = tf.keras.models.load_model("./model/model.h5")
converter = tf.lite.TFLiteConverter.from_keras_model(model)
tflite_model = converter.convert()
open("converted_model.tflite", "wb").write(tflite_model)



caltech_dir = './testTensorflow2/testData'


image_w = 64
image_h = 64

pixels = image_h * image_w * 3

X = []
filenames = []
files = glob.glob(caltech_dir+"/*.*")
for i, f in enumerate(files):
    img = Image.open(f)
    img = img.convert("RGB")
    img = img.resize((image_w, image_h))
    data = np.asarray(img)

    filenames.append(f)
    X.append(data)


X = np.array(X)
X = X.astype(float) / 255

print("loaded model from disk")

model.compile(loss="binary_crossentropy", optimizer="rmsprop", metrics=['accuracy'])

prediction = model.predict(X)

np.set_printoptions(formatter={'float': lambda x: "{0:0.3f}".format(x)})
cnt = 0
for i in prediction:
    if i >= 0.5: print(str(i) + "해당 " + filenames[cnt].split("\\")[1]  + "  이미지는 dark 로 추정됩니다.")
    else : print(str(i)+ "해당 " + filenames[cnt].split("\\")[1]  + "  이미지는 bright 으로 추정됩니다." )
    cnt += 1

interpreter = tf.lite.Interpreter(model_path="converted_model.tflite")
interpreter.allocate_tensors()
